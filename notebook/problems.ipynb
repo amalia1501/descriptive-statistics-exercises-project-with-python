{
    "cells": [
        {
            "cell_type": "markdown",
            "id": "ac622319",
            "metadata": {},
            "source": [
                "# Descriptive statistics problems"
            ]
        },
        {
            "cell_type": "markdown",
            "id": "5e0ab0d5",
            "metadata": {},
            "source": [
                "### Exercise 1\n",
                "\n",
                "We will use NumPy to obtain information to describe statistically.\n",
                "\n",
                "- Generate an array of 100 elements following a normal distribution.\n",
                "- Generate an array of 100 elements following a chi-square distribution with 3 degrees of freedom.\n",
                "- Calculate the main metrics and statistical measures that best describe the two vectors."
            ]
        },
        {
            "cell_type": "code",
            "execution_count": 28,
            "id": "34720ab6",
            "metadata": {
                "metadata": {}
            },
            "outputs": [
                {
                    "name": "stdout",
                    "output_type": "stream",
                    "text": [
                        "[-0.68729787 -0.3507699  -0.04763904  0.50204508 -0.89911771  0.11872059\n",
                        " -0.26925907 -1.34508544  0.40482129  0.94447269  0.35037835  0.28723294\n",
                        " -0.55020333  0.03089405 -1.95653593  0.08537029 -1.6127997  -0.67287879\n",
                        " -3.52432067 -1.33375187  0.0555172  -0.17559938 -0.59634529 -1.09969076\n",
                        " -0.98019261  0.67238977 -0.71465993 -0.19295056  0.49152817 -0.78162758\n",
                        "  0.52981518 -1.58319464  0.92802378 -0.4393853  -0.2876398  -0.60771398\n",
                        " -0.84059056 -0.60891823  0.63340447  0.29814459 -0.25821989  1.71977444\n",
                        " -0.63269336 -0.80308862  0.13267235  0.69757718  1.35001969 -0.29044839\n",
                        "  0.57592487 -1.42378923 -1.54436162 -0.55017552  0.8701147  -0.30634092\n",
                        " -0.45603653 -0.97757701  0.52588505 -0.04540398  0.27785526 -0.22217525\n",
                        "  0.57810312  0.90788577 -0.81947399  1.26839488 -0.89308031  0.75577611\n",
                        " -0.32192154  0.12406583  0.00509894  1.26923029 -0.69143072 -0.26642108\n",
                        "  0.72077925 -0.75895223  0.00445802 -0.37279582 -0.81885571  0.91701073\n",
                        " -0.99194109  0.24535133  1.03240572  0.51522395 -0.62963212 -0.18468921\n",
                        "  1.81568683 -0.76792431  0.66404808 -0.59487522  0.4825647  -0.39061447\n",
                        "  1.18014602 -0.29888589 -1.48217527 -0.4222665  -0.64328338  0.94037104\n",
                        " -2.38035967  0.90406797  1.48905895  1.62335782]\n",
                        "[ 0.05847998  3.32237416  6.19714498  2.9927844   4.03401336  2.61586467\n",
                        "  3.36150841  1.33450127  4.62396734  0.90849295  4.0229471   3.54085306\n",
                        "  3.55242065  2.52067897  4.32936639  0.48707803  5.30410277  1.66380734\n",
                        "  7.76249082  4.95949349  3.12193012  1.96572108  2.03305779  1.34667817\n",
                        "  1.0738624   1.32433952  1.93818346  2.8453142   1.6434206   1.04880551\n",
                        "  0.54653447  4.09021781  4.59646826  2.32889707  4.37318833  1.69600186\n",
                        "  1.91191306  1.25776058  2.58596105  2.24688934  3.7137661   1.1214857\n",
                        "  5.01406429  3.70091948 11.97964722  1.68222686  5.34351463  0.82916168\n",
                        "  3.20504562  2.77332371  2.46189061  8.07759099  1.68994393  1.82314598\n",
                        "  1.64908329  2.36039351  0.10025116  2.43507319  1.36634685  1.79978865\n",
                        "  5.51880019  1.64152687  0.15892319  0.44949648  3.1972702   3.35267577\n",
                        "  0.27090748  2.21044614  0.65911898  3.50754194  2.90284409  0.34738157\n",
                        "  5.67095623  8.2033772   8.75091066  0.55108406  1.63238828  5.82484744\n",
                        "  1.54834702  0.97563147  0.75259009  0.58623192  3.71959143  5.10303905\n",
                        "  3.00561087  0.2572451   0.2806537   1.7587594   0.55670951  2.14562282\n",
                        "  2.00569177  1.59212594  0.69258809  2.50224789  3.5822788   1.25412549\n",
                        "  1.26751442  3.85072514  0.07019143  3.16927427]\n",
                        "Normal mean: -0.13472389458793438\n",
                        "Normal mean: 2.7022147065187743\n",
                        "Normal mean: -0.24019757163351052\n",
                        "Normal mean: 2.228667744819191\n",
                        "Desviacion Estandar: 0.909998850742448\n",
                        "Desviacion Estandar: 2.105935168988186\n",
                        "Moda: ModeResult(mode=-3.5243206739260198, count=1)\n",
                        "Moda: ModeResult(mode=0.05847998251126959, count=1)\n",
                        "Kurtosis: 0.9467706351308554\n",
                        "Kurtosis: 3.2927454516601538\n",
                        "Skew: -0.4015759622168074\n",
                        "Skew: 1.5272127855610491\n"
                    ]
                }
            ],
            "source": [
                "# TODO\n",
                "import numpy as np\n",
                "import random\n",
                "from scipy import stats as st\n",
                "from scipy.stats import kurtosis, skew\n",
                "import matplotlib.pyplot as plt\n",
                "\n",
                "# Array of 100 elements chi-square\n",
                "\n",
                "x = np.random.randn(100)\n",
                "\n",
                "print(x)\n",
                "\n",
                "# Array of 100 elements chi-square 3 degrees\n",
                "\n",
                "y = np.random.chisquare(3,100)\n",
                "print (y)\n",
                "\n",
                "# Main Metrics and Statical measure\n",
                "\n",
                "media_x= np.mean(x)\n",
                "print(f\"Normal mean: {media_x}\")\n",
                "media_y= np.mean(y)\n",
                "print(f\"Normal mean: {media_y}\")\n",
                "\n",
                "mediana_x= np.median(x)\n",
                "print(f\"Normal mean: {mediana_x}\")\n",
                "mediana_y= np.median(y)\n",
                "print(f\"Normal mean: {mediana_y}\")\n",
                "\n",
                "des_estandar_x= np.std(x)\n",
                "print(f\"Desviacion Estandar: {des_estandar_x}\")\n",
                "des_estandar_y= np.std(y)\n",
                "print(f\"Desviacion Estandar: {des_estandar_y}\")\n",
                "\n",
                "moda_x= st.mode(x)\n",
                "print(f\"Moda: {moda_x}\")\n",
                "moda_y= st.mode(y)\n",
                "print(f\"Moda: {moda_y}\")\n",
                "\n",
                "kur_x = kurtosis(x)\n",
                "print(f\"Kurtosis: {kur_x}\")\n",
                "kur_y = kurtosis(y)\n",
                "print(f\"Kurtosis: {kur_y}\")\n",
                "\n",
                "skew_x = skew(x)\n",
                "print(f\"Skew: {skew_x}\")\n",
                "skew_y = skew(y)\n",
                "print(f\"Skew: {skew_y}\")\n",
                "\n"
            ]
        },
        {
            "cell_type": "markdown",
            "id": "46c70c3d",
            "metadata": {},
            "source": [
                "### Exercise 2\n",
                "\n",
                "Write a Python program to calculate the standard deviation of the following data:\n",
                "\n",
                "```py\n",
                "data = [4, 2, 5, 8, 6]\n",
                "```"
            ]
        },
        {
            "cell_type": "code",
            "execution_count": 35,
            "id": "d590308e",
            "metadata": {
                "metadata": {}
            },
            "outputs": [
                {
                    "name": "stdout",
                    "output_type": "stream",
                    "text": [
                        "5.0\n",
                        "-1.0\n",
                        "5.0\n",
                        "-3.0\n",
                        "5.0\n",
                        "0.0\n",
                        "5.0\n",
                        "3.0\n",
                        "5.0\n",
                        "1.0\n"
                    ]
                }
            ],
            "source": [
                "# TODO\n",
                "import numpy as np\n",
                "\n",
                "data = [4,2,5,8,6]\n",
                "media = np.mean(data)\n",
                "\n",
                "for i in data:\n",
                "    dif = i - media\n",
                "    print(media)\n",
                "    print(dif)"
            ]
        }
    ],
    "metadata": {
        "interpreter": {
            "hash": "9248718ffe6ce6938b217e69dbcc175ea21f4c6b28a317e96c05334edae734bb"
        },
        "kernelspec": {
            "display_name": "Python 3.9.12 ('ML-BOOTCAMP')",
            "language": "python",
            "name": "python3"
        },
        "language_info": {
            "codemirror_mode": {
                "name": "ipython",
                "version": 3
            },
            "file_extension": ".py",
            "mimetype": "text/x-python",
            "name": "python",
            "nbconvert_exporter": "python",
            "pygments_lexer": "ipython3",
            "version": "3.11.4"
        }
    },
    "nbformat": 4,
    "nbformat_minor": 5
}
