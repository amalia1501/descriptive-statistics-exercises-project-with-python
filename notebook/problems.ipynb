{
    "cells": [
        {
            "cell_type": "markdown",
            "id": "ac622319",
            "metadata": {},
            "source": [
                "# Descriptive statistics problems"
            ]
        },
        {
            "cell_type": "markdown",
            "id": "5e0ab0d5",
            "metadata": {},
            "source": [
                "### Exercise 1\n",
                "\n",
                "We will use NumPy to obtain information to describe statistically.\n",
                "\n",
                "- Generate an array of 100 elements following a normal distribution.\n",
                "- Generate an array of 100 elements following a chi-square distribution with 3 degrees of freedom.\n",
                "- Calculate the main metrics and statistical measures that best describe the two vectors."
            ]
        },
        {
            "cell_type": "code",
            "execution_count": 19,
            "id": "34720ab6",
            "metadata": {
                "metadata": {}
            },
            "outputs": [
                {
                    "name": "stdout",
                    "output_type": "stream",
                    "text": [
                        "[ 1.80248483  0.49892767 -1.707294    1.94084321 -0.41468029  1.83254847\n",
                        " -1.66232073 -0.55814092  0.63039958 -0.60845267  1.77594666 -0.01793243\n",
                        " -0.38415342 -0.42570672 -0.42070858 -0.3966846  -2.39774885  0.80205682\n",
                        "  1.17410697 -0.29220482 -0.06680122 -1.11392813 -0.40355637 -0.66015437\n",
                        " -2.58249487  0.65850805  2.19220005  1.18526119  0.4710799  -0.25624378\n",
                        " -0.34208576  1.2996512  -1.57770643  0.12552441 -1.1000325   0.16419797\n",
                        " -0.30902645  1.08819981  0.5093936   1.01738091  0.34026193  1.48291831\n",
                        " -0.0736615   0.90739962 -1.04186682 -0.33368668 -0.16909019  1.46600084\n",
                        " -0.54235236  0.18795326 -0.03637758  2.08431871  0.65891379  0.07137976\n",
                        "  0.80136859 -0.03968147  0.12257269  1.83469049  0.61366478  0.45290797\n",
                        "  0.17382941 -2.14109165  0.05002699  0.07740127 -1.2454397   1.53625934\n",
                        "  1.70056383 -2.04951497  0.89875132 -0.02471691 -0.60059468  0.03416897\n",
                        " -0.26682004  0.02069917 -0.33281167 -1.69452506 -0.10583134  0.40126303\n",
                        "  1.20552524  0.79509973 -1.38151126 -0.07638652  0.25658179 -0.06795073\n",
                        "  0.54359208  0.24007397  0.99206377  1.10712257 -0.46918734 -0.39360839\n",
                        " -1.17828238  0.26010237  1.21529462 -0.19891028  1.75994907  1.28740926\n",
                        " -0.59250519  0.46646873 -1.18855291  0.30290412]\n",
                        "[ 6.07751805  1.30420288  0.5202805   3.04937068  1.68884395  3.86226689\n",
                        "  5.61824091  1.86416468  2.20003095  4.01193133  3.15770303  1.62337497\n",
                        "  3.56175523  1.89935969  6.89380253  1.75631799  4.50561246  1.05367748\n",
                        "  0.92963822  0.30323501  1.56950122  0.86407351  7.50744421  1.90152847\n",
                        "  2.46656113  0.47566576  3.50183965  3.1617061   0.81909533  2.87224806\n",
                        "  4.2965086   1.53238985  0.47935452  3.71501431  0.10727801  1.2090665\n",
                        "  6.22586235  3.74635818  3.35175587  1.36863739  0.47373152  4.23019007\n",
                        "  1.64871856  1.79178107  1.97051051  0.91727793  3.06941144  1.86810666\n",
                        "  2.40017201  5.28366023  2.8508006   4.05440702  1.35890214  0.86402111\n",
                        "  1.65884609  4.37658207  1.31161848  3.09158438  7.17135777  0.73993359\n",
                        "  6.82217297  3.98064023  3.33310363  0.24858765  1.21407531  2.10503443\n",
                        "  0.63057582  0.27359425  5.35810918  1.35534556  6.68270796  2.44745376\n",
                        "  0.70806073  4.18965046  2.55538306  6.67833623  1.59562788  4.20419227\n",
                        "  4.01843179  3.74068949  1.55012787  1.57939214  0.06432844  4.71582146\n",
                        "  2.26956608  7.79854098  4.12068558  2.6053375   0.02505347 10.45105725\n",
                        "  4.36339154  3.08267464  4.97277142  7.06008013  5.20250312  0.30321943\n",
                        "  4.12200012  9.80960436  1.41394257  6.94438089]\n",
                        "Normal mean: 0.11575197132114905\n",
                        "Normal mean: 3.0278108135899835\n",
                        "Normal mean: 0.06070337056779543\n",
                        "Normal mean: 2.5109720952126326\n",
                        "Desviacion Estandar: 1.0223725510989337\n",
                        "Desviacion Estandar: 2.231890606876444\n",
                        "Moda: ModeResult(mode=-2.5824948739254747, count=1)\n",
                        "Moda: ModeResult(mode=0.025053468314826605, count=1)\n",
                        "Kurtosis: -0.06845147553191344\n",
                        "Kurtosis: 0.617298594873585\n",
                        "Skew: -0.24453374951501988\n",
                        "Skew: 0.9647792447929477\n"
                    ]
                }
            ],
            "source": [
                "# TODO\n",
                "import numpy as np\n",
                "import random\n",
                "from scipy import stats as st\n",
                "from scipy.stats import kurtosis, skew\n",
                "import matplotlib.pyplot as plt\n",
                "\n",
                "# Array of 100 elements chi-square\n",
                "\n",
                "x = np.random.randn(100)\n",
                "\n",
                "print(x)\n",
                "\n",
                "# Array of 100 elements chi-square 3 degrees\n",
                "\n",
                "y = np.random.chisquare(3,100)\n",
                "print (y)\n",
                "\n",
                "# Main Metrics and Statical measure\n",
                "\n",
                "media_x= np.mean(x)\n",
                "print(f\"Normal mean: {media_x}\")\n",
                "media_y= np.mean(y)\n",
                "print(f\"Normal mean: {media_y}\")\n",
                "\n",
                "mediana_x= np.median(x)\n",
                "print(f\"Normal mean: {mediana_x}\")\n",
                "mediana_y= np.median(y)\n",
                "print(f\"Normal mean: {mediana_y}\")\n",
                "\n",
                "des_estandar_x= np.std(x)\n",
                "print(f\"Desviacion Estandar: {des_estandar_x}\")\n",
                "des_estandar_y= np.std(y)\n",
                "print(f\"Desviacion Estandar: {des_estandar_y}\")\n",
                "\n",
                "moda_x= st.mode(x)\n",
                "print(f\"Moda: {moda_x}\")\n",
                "moda_y= st.mode(y)\n",
                "print(f\"Moda: {moda_y}\")\n",
                "\n",
                "kur_x = kurtosis(x)\n",
                "print(f\"Kurtosis: {kur_x}\")\n",
                "kur_y = kurtosis(y)\n",
                "print(f\"Kurtosis: {kur_y}\")\n",
                "\n",
                "skew_x = skew(x)\n",
                "print(f\"Skew: {skew_x}\")\n",
                "skew_y = skew(y)\n",
                "print(f\"Skew: {skew_y}\")\n",
                "\n"
            ]
        },
        {
            "cell_type": "markdown",
            "id": "46c70c3d",
            "metadata": {},
            "source": [
                "### Exercise 2\n",
                "\n",
                "Write a Python program to calculate the standard deviation of the following data:\n",
                "\n",
                "```py\n",
                "data = [4, 2, 5, 8, 6]\n",
                "```"
            ]
        },
        {
            "cell_type": "code",
            "execution_count": 72,
            "id": "d590308e",
            "metadata": {
                "metadata": {}
            },
            "outputs": [
                {
                    "name": "stdout",
                    "output_type": "stream",
                    "text": [
                        "5.0\n",
                        "[1.0, 9.0, 0.0, 9.0, 1.0]\n",
                        "20.0\n",
                        "4.0\n",
                        "2.0\n"
                    ]
                }
            ],
            "source": [
                "# TODO\n",
                "import numpy as np\n",
                "import math\n",
                "\n",
                "\n",
                "data = [4,2,5,8,6]\n",
                "\n",
                "total = np.sum(data)\n",
                "mean = total / len(data)\n",
                "\n",
                "print(mean)\n",
                "\n",
                "squared_deviations = [(x - mean) ** 2 for x in data]\n",
                "print(squared_deviations)\n",
                "\n",
                "sum= np.sum(squared_deviations)\n",
                "print(sum)\n",
                "\n",
                "variance = sum // (len(data))\n",
                "print(variance)\n",
                "\n",
                "\n",
                "desv_estandar= math.sqrt(variance)\n",
                "print(desv_estandar)\n"
            ]
        }
    ],
    "metadata": {
        "interpreter": {
            "hash": "9248718ffe6ce6938b217e69dbcc175ea21f4c6b28a317e96c05334edae734bb"
        },
        "kernelspec": {
            "display_name": "Python 3.9.12 ('ML-BOOTCAMP')",
            "language": "python",
            "name": "python3"
        },
        "language_info": {
            "codemirror_mode": {
                "name": "ipython",
                "version": 3
            },
            "file_extension": ".py",
            "mimetype": "text/x-python",
            "name": "python",
            "nbconvert_exporter": "python",
            "pygments_lexer": "ipython3",
            "version": "3.11.4"
        }
    },
    "nbformat": 4,
    "nbformat_minor": 5
}
